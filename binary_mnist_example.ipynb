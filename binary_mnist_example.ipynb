{
  "nbformat": 4,
  "nbformat_minor": 0,
  "metadata": {
    "colab": {
      "provenance": [],
      "authorship_tag": "ABX9TyPn/g1bLpPgniGSMfqVt3uO"
    },
    "kernelspec": {
      "name": "python3",
      "display_name": "Python 3"
    },
    "language_info": {
      "name": "python"
    }
  },
  "cells": [
    {
      "cell_type": "markdown",
      "source": [
        "# Binary MNIST classification"
      ],
      "metadata": {
        "id": "2ol5uMXyysjP"
      }
    },
    {
      "cell_type": "code",
      "source": [
        "import random\n",
        "from engine import Value\n",
        "import nn\n",
        "\n",
        "# using torch to download MNIST dataset\n",
        "import torch\n",
        "import torchvision \n",
        "from torchvision import transforms"
      ],
      "metadata": {
        "id": "LUqvqhnQx90C"
      },
      "execution_count": 1,
      "outputs": []
    },
    {
      "cell_type": "markdown",
      "source": [
        "# MLP definition"
      ],
      "metadata": {
        "id": "WZj3JsXp4_DW"
      }
    },
    {
      "cell_type": "code",
      "source": [
        "class MLP(nn.Module):\n",
        "    def __init__(self, nin, nouts):\n",
        "        sz = [nin] + nouts\n",
        "        self.layers = []\n",
        "        for i in range(len(nouts)):\n",
        "            self.layers.append(nn.Linear(sz[i], sz[i+1]))\n",
        "            self.layers.append(nn.Sigmoid())\n",
        "\n",
        "    def __call__(self, x):\n",
        "        for layer in self.layers:\n",
        "            x = layer(x)\n",
        "        return x\n",
        "\n",
        "    def parameters(self):\n",
        "        return [p for layer in self.layers for p in layer.parameters()]"
      ],
      "metadata": {
        "id": "p3xf9Trv5CgA"
      },
      "execution_count": 2,
      "outputs": []
    },
    {
      "cell_type": "markdown",
      "source": [
        "# Training"
      ],
      "metadata": {
        "id": "mFMOGGMt0wa0"
      }
    },
    {
      "cell_type": "code",
      "source": [
        "train_dataset = torchvision.datasets.MNIST(root='./data',\n",
        "                                           train=True,\n",
        "                                           transform=transforms.Compose([\n",
        "                                                  transforms.ToTensor(),\n",
        "                                                  transforms.Normalize(mean = (0.1307,), std = (0.3081,))]),\n",
        "                                           download=True)"
      ],
      "metadata": {
        "id": "mg4v_SAFqeoW"
      },
      "execution_count": 3,
      "outputs": []
    },
    {
      "cell_type": "code",
      "source": [
        "xs = []\n",
        "ys = []\n",
        "\n",
        "for x, y in train_dataset:\n",
        "    if y == 0 or y == 1:\n",
        "        xs.append(x)\n",
        "        ys.append(y)"
      ],
      "metadata": {
        "id": "EzoqxyF5qfwo"
      },
      "execution_count": 4,
      "outputs": []
    },
    {
      "cell_type": "code",
      "source": [
        "len(xs), len(ys)"
      ],
      "metadata": {
        "colab": {
          "base_uri": "https://localhost:8080/"
        },
        "id": "RjK63SFJqlIb",
        "outputId": "4eb87f68-6f63-42e4-f673-e487e6ed77ef"
      },
      "execution_count": 5,
      "outputs": [
        {
          "output_type": "execute_result",
          "data": {
            "text/plain": [
              "(12665, 12665)"
            ]
          },
          "metadata": {},
          "execution_count": 5
        }
      ]
    },
    {
      "cell_type": "code",
      "source": [
        "xs = list(map(torch.flatten, xs))"
      ],
      "metadata": {
        "id": "OMkpQiPfqocP"
      },
      "execution_count": 6,
      "outputs": []
    },
    {
      "cell_type": "code",
      "source": [
        "xs = list(map(lambda x: x.tolist(), xs))"
      ],
      "metadata": {
        "id": "fUxDLX-srRA8"
      },
      "execution_count": 7,
      "outputs": []
    },
    {
      "cell_type": "code",
      "source": [
        "model = MLP(784, [16, 16, 1])\n",
        "model(xs[0])"
      ],
      "metadata": {
        "colab": {
          "base_uri": "https://localhost:8080/"
        },
        "id": "9sw012-Nx8pR",
        "outputId": "3e08919f-4550-4ec6-80f7-2004dbd5ffa2"
      },
      "execution_count": 8,
      "outputs": [
        {
          "output_type": "execute_result",
          "data": {
            "text/plain": [
              "[Value(data=0.4172704528019941)]"
            ]
          },
          "metadata": {},
          "execution_count": 8
        }
      ]
    },
    {
      "cell_type": "code",
      "source": [
        "def log_loss_val(pred: Value, target: int):\n",
        "    return -(target * pred.log() + (1 - target) * (1 - pred).log())\n",
        "\n",
        "a = Value(1.0)\n",
        "log_loss_val(a, 0.0)"
      ],
      "metadata": {
        "colab": {
          "base_uri": "https://localhost:8080/"
        },
        "id": "O5ZhUfU91MjP",
        "outputId": "0de72b20-0b12-4cd5-da22-b1251fd87e90"
      },
      "execution_count": 9,
      "outputs": [
        {
          "output_type": "execute_result",
          "data": {
            "text/plain": [
              "Value(data=13.815510557964274)"
            ]
          },
          "metadata": {},
          "execution_count": 9
        }
      ]
    },
    {
      "cell_type": "code",
      "source": [
        "# SGD: can change number of updates to tradeoff accuracy for time\n",
        "for k in range(100):\n",
        "  x = xs[k]\n",
        "  y = ys[k]\n",
        "  \n",
        "  # forward pass\n",
        "  ypred = model(x)[0]\n",
        "  loss = log_loss_val(ypred, y)\n",
        "  \n",
        "  # backward pass\n",
        "  for p in model.parameters():\n",
        "    p.grad = 0.0\n",
        "  loss.backward()\n",
        "  \n",
        "  # update\n",
        "  for p in model.parameters():\n",
        "    p.data += -0.1 * p.grad\n",
        "  \n",
        "  if k % 10 == 0:\n",
        "    print(k, loss.data)\n"
      ],
      "metadata": {
        "colab": {
          "base_uri": "https://localhost:8080/"
        },
        "id": "5P2SaXeKBf7t",
        "outputId": "38e9d9cd-ddec-47e8-f6e0-b6380a7b897c"
      },
      "execution_count": 10,
      "outputs": [
        {
          "output_type": "stream",
          "name": "stdout",
          "text": [
            "0 0.5400303826650329\n",
            "10 0.5547694195120182\n",
            "20 0.7604396685418151\n",
            "30 1.475858326430516\n",
            "40 0.3243103639599521\n",
            "50 1.0107908171172202\n",
            "60 0.820473425167408\n",
            "70 0.5241338501401879\n",
            "80 0.22821401839691627\n",
            "90 1.4242800255207686\n"
          ]
        }
      ]
    },
    {
      "cell_type": "markdown",
      "source": [
        "# Testing"
      ],
      "metadata": {
        "id": "V9mVCxHHvDQE"
      }
    },
    {
      "cell_type": "code",
      "source": [
        "test_dataset = torchvision.datasets.MNIST(root='./data',\n",
        "                                          train=False,\n",
        "                                          transform=transforms.Compose([\n",
        "                                                  transforms.ToTensor(),\n",
        "                                                  transforms.Normalize(mean = (0.1307,), std = (0.3081,))]),\n",
        "                                          download=True)"
      ],
      "metadata": {
        "id": "aewHpyTCyEyU"
      },
      "execution_count": 11,
      "outputs": []
    },
    {
      "cell_type": "code",
      "source": [
        "test_xs = []\n",
        "test_ys = []\n",
        "\n",
        "for x, y in test_dataset:\n",
        "    if y == 0 or y == 1:\n",
        "        test_xs.append(x)\n",
        "        test_ys.append(y)"
      ],
      "metadata": {
        "id": "Y_8prXADvJTU"
      },
      "execution_count": 12,
      "outputs": []
    },
    {
      "cell_type": "code",
      "source": [
        "len(test_xs), len(test_ys)"
      ],
      "metadata": {
        "colab": {
          "base_uri": "https://localhost:8080/"
        },
        "id": "mpsBQQ_uvYSg",
        "outputId": "2e6f25f6-a9dd-49f7-def3-a1abbb85e9df"
      },
      "execution_count": 13,
      "outputs": [
        {
          "output_type": "execute_result",
          "data": {
            "text/plain": [
              "(2115, 2115)"
            ]
          },
          "metadata": {},
          "execution_count": 13
        }
      ]
    },
    {
      "cell_type": "code",
      "source": [
        "test_xs = list(map(torch.flatten, test_xs))"
      ],
      "metadata": {
        "id": "uBpV1DIhvewg"
      },
      "execution_count": 14,
      "outputs": []
    },
    {
      "cell_type": "code",
      "source": [
        "test_xs = list(map(lambda x: x.tolist(), test_xs))"
      ],
      "metadata": {
        "id": "Fm2qIwzFvkHE"
      },
      "execution_count": 15,
      "outputs": []
    },
    {
      "cell_type": "code",
      "source": [
        "correct = 0\n",
        "total = 0\n",
        "for x, y in zip(test_xs[:30], test_ys[:30]):\n",
        "    pred = model(x)[0]\n",
        "    num_pred = 1 if pred.data >= 0.5 else 0\n",
        "    correct += (y == num_pred)\n",
        "    total += 1\n",
        "\n",
        "print(f\"accuracy: {correct / total}\")"
      ],
      "metadata": {
        "colab": {
          "base_uri": "https://localhost:8080/"
        },
        "id": "4SVFqEpGvzpF",
        "outputId": "93cc6054-63f8-465b-d30f-ab314ce523c3"
      },
      "execution_count": 16,
      "outputs": [
        {
          "output_type": "stream",
          "name": "stdout",
          "text": [
            "accuracy: 0.8333333333333334\n"
          ]
        }
      ]
    }
  ]
}