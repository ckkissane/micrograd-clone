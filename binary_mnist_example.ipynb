{
 "cells": [
  {
   "cell_type": "markdown",
   "metadata": {
    "id": "2ol5uMXyysjP"
   },
   "source": [
    "# Binary MNIST classification"
   ]
  },
  {
   "cell_type": "code",
   "execution_count": 13,
   "metadata": {
    "id": "LUqvqhnQx90C"
   },
   "outputs": [],
   "source": [
    "import random\n",
    "from micrograd.engine import Value\n",
    "import micrograd.nn as nn\n",
    "import micrograd.functional as F\n",
    "\n",
    "# using torch to download MNIST dataset\n",
    "import torch\n",
    "import torchvision \n",
    "from torchvision import transforms"
   ]
  },
  {
   "cell_type": "markdown",
   "metadata": {
    "id": "WZj3JsXp4_DW"
   },
   "source": [
    "# MLP definition"
   ]
  },
  {
   "cell_type": "code",
   "execution_count": 2,
   "metadata": {
    "id": "p3xf9Trv5CgA"
   },
   "outputs": [],
   "source": [
    "class MLP(nn.Module):\n",
    "    def __init__(self, nin, nouts):\n",
    "        sz = [nin] + nouts\n",
    "        self.layers = []\n",
    "        for i in range(len(nouts)):\n",
    "            self.layers.append(nn.Linear(sz[i], sz[i+1]))\n",
    "            self.layers.append(nn.Sigmoid())\n",
    "\n",
    "    def __call__(self, x):\n",
    "        for layer in self.layers:\n",
    "            x = layer(x)\n",
    "        return x\n",
    "\n",
    "    def parameters(self):\n",
    "        return [p for layer in self.layers for p in layer.parameters()]"
   ]
  },
  {
   "cell_type": "markdown",
   "metadata": {
    "id": "mFMOGGMt0wa0"
   },
   "source": [
    "# Training"
   ]
  },
  {
   "cell_type": "code",
   "execution_count": 12,
   "metadata": {
    "id": "mg4v_SAFqeoW"
   },
   "outputs": [],
   "source": [
    "train_dataset = torchvision.datasets.MNIST(root='./data',\n",
    "                                           train=True,\n",
    "                                           transform=transforms.Compose([\n",
    "                                                  transforms.ToTensor(),\n",
    "                                                  transforms.Normalize(mean = (0.1307,), std = (0.3081,))]),\n",
    "                                           download=True)"
   ]
  },
  {
   "cell_type": "code",
   "execution_count": 4,
   "metadata": {
    "id": "EzoqxyF5qfwo"
   },
   "outputs": [
    {
     "data": {
      "text/plain": [
       "(12665, 12665)"
      ]
     },
     "execution_count": 4,
     "metadata": {},
     "output_type": "execute_result"
    }
   ],
   "source": [
    "# only use 0s and 1s\n",
    "xs = []\n",
    "ys = []\n",
    "\n",
    "for x, y in train_dataset:\n",
    "    if y == 0 or y == 1:\n",
    "        xs.append(x)\n",
    "        ys.append(y)\n",
    "\n",
    "len(xs), len(ys)"
   ]
  },
  {
   "cell_type": "code",
   "execution_count": 5,
   "metadata": {
    "id": "OMkpQiPfqocP"
   },
   "outputs": [],
   "source": [
    "# convert tensors to 1d python lists\n",
    "xs = list(map(torch.flatten, xs))\n",
    "xs = list(map(lambda x: x.tolist(), xs))"
   ]
  },
  {
   "cell_type": "code",
   "execution_count": 6,
   "metadata": {
    "id": "9sw012-Nx8pR"
   },
   "outputs": [],
   "source": [
    "model = MLP(784, [16, 16, 1])"
   ]
  },
  {
   "cell_type": "code",
   "execution_count": 7,
   "metadata": {
    "colab": {
     "base_uri": "https://localhost:8080/"
    },
    "id": "5P2SaXeKBf7t",
    "outputId": "70eaa398-a086-455b-cc14-77fe3d7eada9"
   },
   "outputs": [
    {
     "name": "stdout",
     "output_type": "stream",
     "text": [
      "0 0.9462545454928128\n",
      "10 0.81577553791333\n",
      "20 1.2227966637286534\n",
      "30 0.8080784827888361\n",
      "40 0.41931684464144864\n",
      "50 0.8000838193974728\n",
      "60 0.3056201762486865\n",
      "70 0.5029754654018131\n",
      "80 0.3117249886614138\n",
      "90 1.0913402552878135\n",
      "100 0.24426671324323307\n",
      "110 0.4129608168254022\n",
      "120 0.7716425367793331\n",
      "130 0.17946794367326155\n",
      "140 0.281612965261799\n"
     ]
    }
   ],
   "source": [
    "# SGD: can change number of updates to tradeoff accuracy for time\n",
    "for k in range(150):\n",
    "    x = xs[k]\n",
    "    y = ys[k]\n",
    "\n",
    "    # forward pass\n",
    "    ypred = model(x)[0]\n",
    "    loss = F.binary_cross_entropy(ypred, y)\n",
    "\n",
    "    # backward pass\n",
    "    for p in model.parameters():\n",
    "    p.grad = 0.0\n",
    "    loss.backward()\n",
    "\n",
    "    # update\n",
    "    for p in model.parameters():\n",
    "    p.data += -0.1 * p.grad\n",
    "\n",
    "    if k % 10 == 0:\n",
    "    print(k, loss.data)\n"
   ]
  },
  {
   "cell_type": "markdown",
   "metadata": {
    "id": "V9mVCxHHvDQE"
   },
   "source": [
    "# Testing"
   ]
  },
  {
   "cell_type": "code",
   "execution_count": 8,
   "metadata": {
    "id": "aewHpyTCyEyU"
   },
   "outputs": [],
   "source": [
    "test_dataset = torchvision.datasets.MNIST(root='./data',\n",
    "                                          train=False,\n",
    "                                          transform=transforms.Compose([\n",
    "                                                  transforms.ToTensor(),\n",
    "                                                  transforms.Normalize(mean = (0.1307,), std = (0.3081,))]),\n",
    "                                          download=True)"
   ]
  },
  {
   "cell_type": "code",
   "execution_count": 9,
   "metadata": {
    "colab": {
     "base_uri": "https://localhost:8080/"
    },
    "id": "Y_8prXADvJTU",
    "outputId": "bd0dacfb-eaad-44a3-e206-99fa0ea2ff57"
   },
   "outputs": [
    {
     "data": {
      "text/plain": [
       "(2115, 2115)"
      ]
     },
     "execution_count": 9,
     "metadata": {},
     "output_type": "execute_result"
    }
   ],
   "source": [
    "# only use 0s and 1s\n",
    "test_xs = []\n",
    "test_ys = []\n",
    "\n",
    "for x, y in test_dataset:\n",
    "    if y == 0 or y == 1:\n",
    "        test_xs.append(x)\n",
    "        test_ys.append(y)\n",
    "\n",
    "len(test_xs), len(test_ys)"
   ]
  },
  {
   "cell_type": "code",
   "execution_count": 10,
   "metadata": {
    "id": "uBpV1DIhvewg"
   },
   "outputs": [],
   "source": [
    "# convert tensors to 1d python lists\n",
    "test_xs = list(map(torch.flatten, test_xs))\n",
    "test_xs = list(map(lambda x: x.tolist(), test_xs))"
   ]
  },
  {
   "cell_type": "code",
   "execution_count": 11,
   "metadata": {
    "colab": {
     "base_uri": "https://localhost:8080/"
    },
    "id": "4SVFqEpGvzpF",
    "outputId": "d268de6a-d4ad-4e0e-ee61-90ede556267e"
   },
   "outputs": [
    {
     "name": "stdout",
     "output_type": "stream",
     "text": [
      "accuracy: 1.0\n"
     ]
    }
   ],
   "source": [
    "correct = 0\n",
    "total = 0\n",
    "for x, y in zip(test_xs[:50], test_ys[:50]):\n",
    "    pred = model(x)[0]\n",
    "    num_pred = 1 if pred.data >= 0.5 else 0\n",
    "    correct += (y == num_pred)\n",
    "    total += 1\n",
    "\n",
    "print(f\"accuracy: {correct / total}\")"
   ]
  }
 ],
 "metadata": {
  "colab": {
   "authorship_tag": "ABX9TyM8ZowZ+bP0IJQ9O8xAlpml",
   "collapsed_sections": [],
   "provenance": []
  },
  "kernelspec": {
   "display_name": "Python 3 (ipykernel)",
   "language": "python",
   "name": "python3"
  },
  "language_info": {
   "codemirror_mode": {
    "name": "ipython",
    "version": 3
   },
   "file_extension": ".py",
   "mimetype": "text/x-python",
   "name": "python",
   "nbconvert_exporter": "python",
   "pygments_lexer": "ipython3",
   "version": "3.9.12"
  }
 },
 "nbformat": 4,
 "nbformat_minor": 1
}
