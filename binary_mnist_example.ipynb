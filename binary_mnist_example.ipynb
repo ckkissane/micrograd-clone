{
  "nbformat": 4,
  "nbformat_minor": 0,
  "metadata": {
    "colab": {
      "provenance": [],
      "collapsed_sections": [],
      "authorship_tag": "ABX9TyM8ZowZ+bP0IJQ9O8xAlpml"
    },
    "kernelspec": {
      "name": "python3",
      "display_name": "Python 3"
    },
    "language_info": {
      "name": "python"
    }
  },
  "cells": [
    {
      "cell_type": "markdown",
      "source": [
        "# Binary MNIST classification"
      ],
      "metadata": {
        "id": "2ol5uMXyysjP"
      }
    },
    {
      "cell_type": "code",
      "source": [
        "import random\n",
        "from engine import Value\n",
        "import nn\n",
        "import functional as F\n",
        "\n",
        "# using torch to download MNIST dataset\n",
        "import torch\n",
        "import torchvision \n",
        "from torchvision import transforms"
      ],
      "metadata": {
        "id": "LUqvqhnQx90C"
      },
      "execution_count": 1,
      "outputs": []
    },
    {
      "cell_type": "markdown",
      "source": [
        "# MLP definition"
      ],
      "metadata": {
        "id": "WZj3JsXp4_DW"
      }
    },
    {
      "cell_type": "code",
      "source": [
        "class MLP(nn.Module):\n",
        "    def __init__(self, nin, nouts):\n",
        "        sz = [nin] + nouts\n",
        "        self.layers = []\n",
        "        for i in range(len(nouts)):\n",
        "            self.layers.append(nn.Linear(sz[i], sz[i+1]))\n",
        "            self.layers.append(nn.Sigmoid())\n",
        "\n",
        "    def __call__(self, x):\n",
        "        for layer in self.layers:\n",
        "            x = layer(x)\n",
        "        return x\n",
        "\n",
        "    def parameters(self):\n",
        "        return [p for layer in self.layers for p in layer.parameters()]"
      ],
      "metadata": {
        "id": "p3xf9Trv5CgA"
      },
      "execution_count": 2,
      "outputs": []
    },
    {
      "cell_type": "markdown",
      "source": [
        "# Training"
      ],
      "metadata": {
        "id": "mFMOGGMt0wa0"
      }
    },
    {
      "cell_type": "code",
      "source": [
        "train_dataset = torchvision.datasets.MNIST(root='./data',\n",
        "                                           train=True,\n",
        "                                           transform=transforms.Compose([\n",
        "                                                  transforms.ToTensor(),\n",
        "                                                  transforms.Normalize(mean = (0.1307,), std = (0.3081,))]),\n",
        "                                           download=True)"
      ],
      "metadata": {
        "id": "mg4v_SAFqeoW"
      },
      "execution_count": 3,
      "outputs": []
    },
    {
      "cell_type": "code",
      "source": [
        "# only use 0s and 1s\n",
        "xs = []\n",
        "ys = []\n",
        "\n",
        "for x, y in train_dataset:\n",
        "    if y == 0 or y == 1:\n",
        "        xs.append(x)\n",
        "        ys.append(y)\n",
        "\n",
        "len(xs), len(ys)"
      ],
      "metadata": {
        "id": "EzoqxyF5qfwo"
      },
      "execution_count": 4,
      "outputs": []
    },
    {
      "cell_type": "code",
      "source": [
        "# convert tensors to 1d python lists\n",
        "xs = list(map(torch.flatten, xs))\n",
        "xs = list(map(lambda x: x.tolist(), xs))"
      ],
      "metadata": {
        "id": "OMkpQiPfqocP"
      },
      "execution_count": 6,
      "outputs": []
    },
    {
      "cell_type": "code",
      "source": [
        "model = MLP(784, [16, 16, 1])"
      ],
      "metadata": {
        "id": "9sw012-Nx8pR"
      },
      "execution_count": null,
      "outputs": []
    },
    {
      "cell_type": "code",
      "source": [
        "# SGD: can change number of updates to tradeoff accuracy for time\n",
        "for k in range(150):\n",
        "  x = xs[k]\n",
        "  y = ys[k]\n",
        "  \n",
        "  # forward pass\n",
        "  ypred = model(x)[0]\n",
        "  loss = F.binary_cross_entropy(ypred, y)\n",
        "  \n",
        "  # backward pass\n",
        "  for p in model.parameters():\n",
        "    p.grad = 0.0\n",
        "  loss.backward()\n",
        "  \n",
        "  # update\n",
        "  for p in model.parameters():\n",
        "    p.data += -0.1 * p.grad\n",
        "  \n",
        "  if k % 10 == 0:\n",
        "    print(k, loss.data)\n"
      ],
      "metadata": {
        "colab": {
          "base_uri": "https://localhost:8080/"
        },
        "id": "5P2SaXeKBf7t",
        "outputId": "70eaa398-a086-455b-cc14-77fe3d7eada9"
      },
      "execution_count": 15,
      "outputs": [
        {
          "output_type": "stream",
          "name": "stdout",
          "text": [
            "0 1.9549271998637545\n",
            "10 0.14510332591757447\n",
            "20 2.1040245041199257\n",
            "30 1.8790778677082107\n",
            "40 0.2503963168376077\n",
            "50 1.6017092910910464\n",
            "60 1.0728002936430032\n",
            "70 0.26511466522764543\n",
            "80 0.3079954526857389\n",
            "90 1.4351493885707065\n",
            "100 0.22772366300577015\n",
            "110 0.7792054677449994\n",
            "120 0.9435080263722164\n",
            "130 0.1265752438045917\n",
            "140 0.9029145730399232\n"
          ]
        }
      ]
    },
    {
      "cell_type": "markdown",
      "source": [
        "# Testing"
      ],
      "metadata": {
        "id": "V9mVCxHHvDQE"
      }
    },
    {
      "cell_type": "code",
      "source": [
        "test_dataset = torchvision.datasets.MNIST(root='./data',\n",
        "                                          train=False,\n",
        "                                          transform=transforms.Compose([\n",
        "                                                  transforms.ToTensor(),\n",
        "                                                  transforms.Normalize(mean = (0.1307,), std = (0.3081,))]),\n",
        "                                          download=True)"
      ],
      "metadata": {
        "id": "aewHpyTCyEyU"
      },
      "execution_count": 16,
      "outputs": []
    },
    {
      "cell_type": "code",
      "source": [
        "# only use 0s and 1s\n",
        "test_xs = []\n",
        "test_ys = []\n",
        "\n",
        "for x, y in test_dataset:\n",
        "    if y == 0 or y == 1:\n",
        "        test_xs.append(x)\n",
        "        test_ys.append(y)\n",
        "\n",
        "len(test_xs), len(test_ys)"
      ],
      "metadata": {
        "id": "Y_8prXADvJTU",
        "colab": {
          "base_uri": "https://localhost:8080/"
        },
        "outputId": "bd0dacfb-eaad-44a3-e206-99fa0ea2ff57"
      },
      "execution_count": 17,
      "outputs": [
        {
          "output_type": "execute_result",
          "data": {
            "text/plain": [
              "(2115, 2115)"
            ]
          },
          "metadata": {},
          "execution_count": 17
        }
      ]
    },
    {
      "cell_type": "code",
      "source": [
        "# convert tensors to 1d python lists\n",
        "test_xs = list(map(torch.flatten, test_xs))\n",
        "test_xs = list(map(lambda x: x.tolist(), test_xs))"
      ],
      "metadata": {
        "id": "uBpV1DIhvewg"
      },
      "execution_count": 18,
      "outputs": []
    },
    {
      "cell_type": "code",
      "source": [
        "correct = 0\n",
        "total = 0\n",
        "for x, y in zip(test_xs[:50], test_ys[:50]):\n",
        "    pred = model(x)[0]\n",
        "    num_pred = 1 if pred.data >= 0.5 else 0\n",
        "    correct += (y == num_pred)\n",
        "    total += 1\n",
        "\n",
        "print(f\"accuracy: {correct / total}\")"
      ],
      "metadata": {
        "colab": {
          "base_uri": "https://localhost:8080/"
        },
        "id": "4SVFqEpGvzpF",
        "outputId": "d268de6a-d4ad-4e0e-ee61-90ede556267e"
      },
      "execution_count": 19,
      "outputs": [
        {
          "output_type": "stream",
          "name": "stdout",
          "text": [
            "accuracy: 0.9\n"
          ]
        }
      ]
    }
  ]
}